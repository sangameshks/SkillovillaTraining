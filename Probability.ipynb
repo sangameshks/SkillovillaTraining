{
  "cells": [
    {
      "cell_type": "markdown",
      "metadata": {
        "id": "view-in-github",
        "colab_type": "text"
      },
      "source": [
        "<a href=\"https://colab.research.google.com/github/sangameshks/SkillovillaTraining/blob/main/Probability.ipynb\" target=\"_parent\"><img src=\"https://colab.research.google.com/assets/colab-badge.svg\" alt=\"Open In Colab\"/></a>"
      ]
    },
    {
      "cell_type": "markdown",
      "id": "52a4e7af",
      "metadata": {
        "id": "52a4e7af"
      },
      "source": [
        "# Pre-Requisites for this session\n",
        "\n",
        " - **Basic Mathematics**\n",
        "\n",
        " - **Set Theory**\n",
        "\n",
        " - **Statistics**"
      ]
    },
    {
      "cell_type": "markdown",
      "id": "57d52c82",
      "metadata": {
        "id": "57d52c82"
      },
      "source": [
        "# Agenda\n",
        "\n",
        "   - **Probability**\n",
        "    \n",
        "   - **Random Variable**\n",
        "    \n",
        "   - **Types of distribution**"
      ]
    },
    {
      "cell_type": "markdown",
      "id": "70784fff",
      "metadata": {
        "id": "70784fff"
      },
      "source": [
        "# **Probability**"
      ]
    },
    {
      "cell_type": "markdown",
      "id": "a6eff5de",
      "metadata": {
        "id": "a6eff5de"
      },
      "source": [
        "**Probability is the branch of mathematics that deals with the study of random events and the likelihood of their occurrence. In data science, probability is a fundamental concept that is used extensively in many areas. Here are some reasons why probability is important for data science:**\n",
        "\n",
        "\n",
        "**Modeling uncertainty**:\n",
        "Data science deals with uncertain events and probability helps to model and quantify that uncertainty. Probability helps to understand the randomness in the data and provide a framework for making predictions.\n",
        "\n",
        "\n",
        "**Statistical inference**:\n",
        "Probability is the foundation of statistical inference, which is the process of drawing conclusions about a population based on a sample of data. Probability distributions are used to model the variation in the data and make inferences about the population.\n",
        "\n",
        "\n",
        "**Machine learning**:\n",
        "\n",
        "Machine learning algorithms use probability to make predictions and classify data. Probability models, such as Bayesian networks and Hidden Markov Models, are used to represent uncertainty in the data and make predictions.\n",
        "\n",
        "\n",
        "**Decision-making**:\n",
        "\n",
        "Probability is used in decision-making to evaluate the risks and benefits of different options. In data science, probability is used to make decisions based on data and to evaluate the effectiveness of different strategies.\n",
        "\n",
        "\n",
        "**Data cleaning**:\n",
        "\n",
        "Probability is used in data cleaning to identify outliers and anomalies in the data. Probability models, such as Gaussian distributions, are used to identify data points that are unlikely to occur by chance."
      ]
    },
    {
      "cell_type": "code",
      "execution_count": null,
      "id": "46aed36c",
      "metadata": {
        "id": "46aed36c"
      },
      "outputs": [],
      "source": [
        "# sample space, events, probability."
      ]
    },
    {
      "cell_type": "markdown",
      "id": "60529db3",
      "metadata": {
        "id": "60529db3"
      },
      "source": [
        "**Sample**\n",
        "\n",
        "**In probability theory, a sample space is the set of all possible outcomes of an event or random experiment. For example, the sample space for flipping a coin is {heads, tails}.**"
      ]
    },
    {
      "cell_type": "markdown",
      "id": "30974b1f",
      "metadata": {
        "id": "30974b1f"
      },
      "source": [
        "**Events**\n",
        "\n",
        "**An event is a subset of the sample space. For example, the event of flipping a coin and getting heads is {heads}.**"
      ]
    },
    {
      "cell_type": "markdown",
      "id": "352abe4f",
      "metadata": {
        "id": "352abe4f"
      },
      "source": [
        "**Probabiity**\n",
        "\n",
        "**The probability of an event is a number between 0 and 1 that measures the likelihood of the event occurring. The probability of an event is calculated by dividing the number of outcomes in the event by the number of outcomes in the sample space. For example, the probability of flipping a coin and getting heads is 1/2.**"
      ]
    },
    {
      "cell_type": "markdown",
      "id": "bf2db2ee",
      "metadata": {
        "id": "bf2db2ee"
      },
      "source": [
        "### **Demo**\n",
        "\n",
        "**Question:**\n",
        "\n",
        "**If a fair coin is flipped, what is the sample space, events, and probability of getting heads or tails?**"
      ]
    },
    {
      "cell_type": "markdown",
      "id": "84b0db78",
      "metadata": {
        "id": "84b0db78"
      },
      "source": [
        "**Answer:**\n",
        "\n",
        "**Flipping a fair coin:**\n",
        "\n",
        "**Sample Space (S): {Heads, Tails}**\n",
        "\n",
        "**Events:**\n",
        "\n",
        " - **Event A: Getting heads. A = {Heads}**\n",
        "\n",
        " - **Probability: P(A) = 1/2 = 0.5 (50%)**\n",
        "\n",
        " - **Event B: Getting tails. B = {Tails}**\n",
        "\n",
        " - **Probability: P(B) = 1/2 = 0.5 (50%)**"
      ]
    },
    {
      "cell_type": "markdown",
      "id": "b11d17da",
      "metadata": {
        "id": "b11d17da"
      },
      "source": [
        "### **Practice Time**\n",
        "\n",
        "**Question: 1**\n",
        "\n",
        "**What is the sample space, events, and probabilities associated with rolling a fair die and obtaining an odd number and a number greater than 3?**"
      ]
    },
    {
      "cell_type": "markdown",
      "id": "4b00cee3",
      "metadata": {
        "id": "4b00cee3"
      },
      "source": [
        "**Answer:**\n",
        "\n",
        "**Sample Space (S): {1, 2, 3, 4, 5, 6}**\n",
        "\n",
        "**Events:**\n",
        "\n",
        "**Event A: Getting an odd number. A = {1, 3, 5}**\n",
        "\n",
        "**Probability: P(A) = 3/6 = 1/2 = 0.5 (50%)**\n",
        "\n",
        "**Event B: Getting a number greater than 3. B = {4, 5, 6}**\n",
        "\n",
        "**Probability: P(B) = 3/6 = 1/2 = 0.5 (50%)**"
      ]
    },
    {
      "cell_type": "markdown",
      "id": "1fe3a713",
      "metadata": {
        "id": "1fe3a713"
      },
      "source": [
        "**Question: 2**\n",
        "\n",
        "**What are the probabilities of drawing a heart, drawing a face card, and drawing a red card from a standard deck of playing cards?**"
      ]
    },
    {
      "cell_type": "markdown",
      "id": "5916ec08",
      "metadata": {
        "id": "5916ec08"
      },
      "source": [
        "**Answer:**\n",
        "\n",
        "**Drawing a card from a standard deck of 52 playing cards:**\n",
        "\n",
        "**What is the probability of drawing a heart?**\n",
        "**Answer: The probability of drawing a heart is 13/52 = 1/4 = 0.25 or 25%.**\n",
        "\n",
        "**What is the probability of drawing a face card or a red card?**\n",
        "**Answer: The probability of drawing a face card or a red card is (12/52) + (26/52) = 38/52 = 19/26 ≈ 0.73 or 73%.**"
      ]
    },
    {
      "cell_type": "markdown",
      "id": "ee2dabb9",
      "metadata": {
        "id": "ee2dabb9"
      },
      "source": [
        "## **Contingency table:**\n",
        "\n",
        "**Definition: A contingency table is a statistical table that displays the relationship between two or more categorical variables.**\n",
        "\n",
        "**Structure: The table consists of rows representing one variable and columns representing another variable.**\n",
        "\n",
        "**Analysis: They help examine if there is an association or dependency between the variables and identify patterns or trends in the data.**\n",
        "\n",
        "**Applications: Contingency tables are commonly used in statistics, research, and data analysis, especially with survey data.**"
      ]
    },
    {
      "cell_type": "markdown",
      "id": "0533680a",
      "metadata": {
        "id": "0533680a"
      },
      "source": [
        "### **Demo**\n",
        "\n",
        "**Question: 1**\n",
        "\n",
        "**A company conducted a survey among its employees to determine the relationship between job satisfaction and work hours. The results are summarized in the following contingency table:**"
      ]
    },
    {
      "cell_type": "code",
      "execution_count": null,
      "id": "93d4cb97",
      "metadata": {
        "id": "93d4cb97",
        "outputId": "64de971a-ea85-4b7e-da5b-9b3e5624cb0e",
        "colab": {
          "base_uri": "https://localhost:8080/",
          "height": 112
        }
      },
      "outputs": [
        {
          "output_type": "execute_result",
          "data": {
            "text/plain": [
              "              <40 hours  40-50 hours  >50 hours\n",
              "Satisfied            50           70         30\n",
              "Dissatisfied         30           40         20"
            ],
            "text/html": [
              "\n",
              "  <div id=\"df-dd1361f6-f201-4a87-bbcf-b12e07c24af2\">\n",
              "    <div class=\"colab-df-container\">\n",
              "      <div>\n",
              "<style scoped>\n",
              "    .dataframe tbody tr th:only-of-type {\n",
              "        vertical-align: middle;\n",
              "    }\n",
              "\n",
              "    .dataframe tbody tr th {\n",
              "        vertical-align: top;\n",
              "    }\n",
              "\n",
              "    .dataframe thead th {\n",
              "        text-align: right;\n",
              "    }\n",
              "</style>\n",
              "<table border=\"1\" class=\"dataframe\">\n",
              "  <thead>\n",
              "    <tr style=\"text-align: right;\">\n",
              "      <th></th>\n",
              "      <th>&lt;40 hours</th>\n",
              "      <th>40-50 hours</th>\n",
              "      <th>&gt;50 hours</th>\n",
              "    </tr>\n",
              "  </thead>\n",
              "  <tbody>\n",
              "    <tr>\n",
              "      <th>Satisfied</th>\n",
              "      <td>50</td>\n",
              "      <td>70</td>\n",
              "      <td>30</td>\n",
              "    </tr>\n",
              "    <tr>\n",
              "      <th>Dissatisfied</th>\n",
              "      <td>30</td>\n",
              "      <td>40</td>\n",
              "      <td>20</td>\n",
              "    </tr>\n",
              "  </tbody>\n",
              "</table>\n",
              "</div>\n",
              "      <button class=\"colab-df-convert\" onclick=\"convertToInteractive('df-dd1361f6-f201-4a87-bbcf-b12e07c24af2')\"\n",
              "              title=\"Convert this dataframe to an interactive table.\"\n",
              "              style=\"display:none;\">\n",
              "        \n",
              "  <svg xmlns=\"http://www.w3.org/2000/svg\" height=\"24px\"viewBox=\"0 0 24 24\"\n",
              "       width=\"24px\">\n",
              "    <path d=\"M0 0h24v24H0V0z\" fill=\"none\"/>\n",
              "    <path d=\"M18.56 5.44l.94 2.06.94-2.06 2.06-.94-2.06-.94-.94-2.06-.94 2.06-2.06.94zm-11 1L8.5 8.5l.94-2.06 2.06-.94-2.06-.94L8.5 2.5l-.94 2.06-2.06.94zm10 10l.94 2.06.94-2.06 2.06-.94-2.06-.94-.94-2.06-.94 2.06-2.06.94z\"/><path d=\"M17.41 7.96l-1.37-1.37c-.4-.4-.92-.59-1.43-.59-.52 0-1.04.2-1.43.59L10.3 9.45l-7.72 7.72c-.78.78-.78 2.05 0 2.83L4 21.41c.39.39.9.59 1.41.59.51 0 1.02-.2 1.41-.59l7.78-7.78 2.81-2.81c.8-.78.8-2.07 0-2.86zM5.41 20L4 18.59l7.72-7.72 1.47 1.35L5.41 20z\"/>\n",
              "  </svg>\n",
              "      </button>\n",
              "      \n",
              "  <style>\n",
              "    .colab-df-container {\n",
              "      display:flex;\n",
              "      flex-wrap:wrap;\n",
              "      gap: 12px;\n",
              "    }\n",
              "\n",
              "    .colab-df-convert {\n",
              "      background-color: #E8F0FE;\n",
              "      border: none;\n",
              "      border-radius: 50%;\n",
              "      cursor: pointer;\n",
              "      display: none;\n",
              "      fill: #1967D2;\n",
              "      height: 32px;\n",
              "      padding: 0 0 0 0;\n",
              "      width: 32px;\n",
              "    }\n",
              "\n",
              "    .colab-df-convert:hover {\n",
              "      background-color: #E2EBFA;\n",
              "      box-shadow: 0px 1px 2px rgba(60, 64, 67, 0.3), 0px 1px 3px 1px rgba(60, 64, 67, 0.15);\n",
              "      fill: #174EA6;\n",
              "    }\n",
              "\n",
              "    [theme=dark] .colab-df-convert {\n",
              "      background-color: #3B4455;\n",
              "      fill: #D2E3FC;\n",
              "    }\n",
              "\n",
              "    [theme=dark] .colab-df-convert:hover {\n",
              "      background-color: #434B5C;\n",
              "      box-shadow: 0px 1px 3px 1px rgba(0, 0, 0, 0.15);\n",
              "      filter: drop-shadow(0px 1px 2px rgba(0, 0, 0, 0.3));\n",
              "      fill: #FFFFFF;\n",
              "    }\n",
              "  </style>\n",
              "\n",
              "      <script>\n",
              "        const buttonEl =\n",
              "          document.querySelector('#df-dd1361f6-f201-4a87-bbcf-b12e07c24af2 button.colab-df-convert');\n",
              "        buttonEl.style.display =\n",
              "          google.colab.kernel.accessAllowed ? 'block' : 'none';\n",
              "\n",
              "        async function convertToInteractive(key) {\n",
              "          const element = document.querySelector('#df-dd1361f6-f201-4a87-bbcf-b12e07c24af2');\n",
              "          const dataTable =\n",
              "            await google.colab.kernel.invokeFunction('convertToInteractive',\n",
              "                                                     [key], {});\n",
              "          if (!dataTable) return;\n",
              "\n",
              "          const docLinkHtml = 'Like what you see? Visit the ' +\n",
              "            '<a target=\"_blank\" href=https://colab.research.google.com/notebooks/data_table.ipynb>data table notebook</a>'\n",
              "            + ' to learn more about interactive tables.';\n",
              "          element.innerHTML = '';\n",
              "          dataTable['output_type'] = 'display_data';\n",
              "          await google.colab.output.renderOutput(dataTable, element);\n",
              "          const docLink = document.createElement('div');\n",
              "          docLink.innerHTML = docLinkHtml;\n",
              "          element.appendChild(docLink);\n",
              "        }\n",
              "      </script>\n",
              "    </div>\n",
              "  </div>\n",
              "  "
            ]
          },
          "metadata": {},
          "execution_count": 2
        }
      ],
      "source": [
        "import pandas as pd\n",
        "df = pd.DataFrame({\"<40 hours\":[50, 30], \"40-50 hours\":[70, 40],\">50 hours\":[30, 20]}, columns = [\"<40 hours\", \"40-50 hours\",\">50 hours\"])\n",
        "df.index = [\"Satisfied\", \"Dissatisfied\"]\n",
        "df"
      ]
    },
    {
      "cell_type": "markdown",
      "id": "faa56738",
      "metadata": {
        "id": "faa56738"
      },
      "source": [
        "\n",
        "\n",
        "<!-- ![image.png](attachment:image.png) -->\n",
        "\n",
        "**Based on the contingency table, what is the count of employees who are dissatisfied and work more than 50 hours?**\n",
        "\n",
        "**A) 20**\n",
        "\n",
        "**B) 30**\n",
        "\n",
        "**C) 40**\n",
        "\n",
        "**D) 70**"
      ]
    },
    {
      "cell_type": "markdown",
      "id": "db9e7198",
      "metadata": {
        "id": "db9e7198"
      },
      "source": [
        "**Answer: A)  20**"
      ]
    },
    {
      "cell_type": "markdown",
      "id": "cfb6a85f",
      "metadata": {
        "id": "cfb6a85f"
      },
      "source": [
        "### **Practice Time**\n",
        "\n",
        "**Question: 1**\n",
        "\n",
        "**A study examines the relationship between educational attainment and voting preference. The data is summarized in the following contingency table:**"
      ]
    },
    {
      "cell_type": "code",
      "execution_count": null,
      "id": "bb3ca660",
      "metadata": {
        "id": "bb3ca660",
        "outputId": "aee4519c-9796-45b2-dd76-54e8e0cc4443"
      },
      "outputs": [
        {
          "data": {
            "text/html": [
              "<div>\n",
              "<style scoped>\n",
              "    .dataframe tbody tr th:only-of-type {\n",
              "        vertical-align: middle;\n",
              "    }\n",
              "\n",
              "    .dataframe tbody tr th {\n",
              "        vertical-align: top;\n",
              "    }\n",
              "\n",
              "    .dataframe thead th {\n",
              "        text-align: right;\n",
              "    }\n",
              "</style>\n",
              "<table border=\"1\" class=\"dataframe\">\n",
              "  <thead>\n",
              "    <tr style=\"text-align: right;\">\n",
              "      <th></th>\n",
              "      <th>Party A</th>\n",
              "      <th>Party B</th>\n",
              "      <th>Party C</th>\n",
              "    </tr>\n",
              "  </thead>\n",
              "  <tbody>\n",
              "    <tr>\n",
              "      <th>High School Diploma</th>\n",
              "      <td>50</td>\n",
              "      <td>30</td>\n",
              "      <td>20</td>\n",
              "    </tr>\n",
              "    <tr>\n",
              "      <th>Bachelor's Degree</th>\n",
              "      <td>80</td>\n",
              "      <td>70</td>\n",
              "      <td>30</td>\n",
              "    </tr>\n",
              "    <tr>\n",
              "      <th>Master's Degree</th>\n",
              "      <td>40</td>\n",
              "      <td>50</td>\n",
              "      <td>60</td>\n",
              "    </tr>\n",
              "  </tbody>\n",
              "</table>\n",
              "</div>"
            ],
            "text/plain": [
              "                     Party A  Party B  Party C\n",
              "High School Diploma       50       30       20\n",
              "Bachelor's Degree         80       70       30\n",
              "Master's Degree           40       50       60"
            ]
          },
          "execution_count": 36,
          "metadata": {},
          "output_type": "execute_result"
        }
      ],
      "source": [
        "import pandas as pd\n",
        "df = pd.DataFrame({\"Party A\":[50, 80, 40], \"Party B\":[30, 70, 50],\"Party C\":[20, 30, 60]}, columns = [\"Party A\", \"Party B\",\"Party C\"])\n",
        "df.index = [\"High School Diploma\", \"Bachelor's Degree\", \"Master's Degree\"]\n",
        "df"
      ]
    },
    {
      "cell_type": "markdown",
      "id": "733ce03d",
      "metadata": {
        "id": "733ce03d"
      },
      "source": [
        "\n",
        "**Based on the contingency table, which educational group has the highest count of voters who prefer Party C?**\n",
        "\n",
        "**A) High School Diploma**\n",
        "\n",
        "**B) Bachelor's Degree**\n",
        "\n",
        "**C) Master's Degree**"
      ]
    },
    {
      "cell_type": "markdown",
      "id": "901f4aa5",
      "metadata": {
        "id": "901f4aa5"
      },
      "source": [
        "**Answer: C) Master's Degree**"
      ]
    },
    {
      "cell_type": "markdown",
      "id": "73cb58da",
      "metadata": {
        "id": "73cb58da"
      },
      "source": [
        "**Question: 2**\n",
        "\n",
        "**A study investigates the relationship between exercise frequency and body mass index (BMI). The data is summarized in the following contingency table:**"
      ]
    },
    {
      "cell_type": "code",
      "execution_count": null,
      "id": "f5b49c21",
      "metadata": {
        "id": "f5b49c21",
        "outputId": "9eafd7fa-0a72-4816-b7c8-59bc66505208"
      },
      "outputs": [
        {
          "data": {
            "text/html": [
              "<div>\n",
              "<style scoped>\n",
              "    .dataframe tbody tr th:only-of-type {\n",
              "        vertical-align: middle;\n",
              "    }\n",
              "\n",
              "    .dataframe tbody tr th {\n",
              "        vertical-align: top;\n",
              "    }\n",
              "\n",
              "    .dataframe thead th {\n",
              "        text-align: right;\n",
              "    }\n",
              "</style>\n",
              "<table border=\"1\" class=\"dataframe\">\n",
              "  <thead>\n",
              "    <tr style=\"text-align: right;\">\n",
              "      <th></th>\n",
              "      <th>Normal</th>\n",
              "      <th>Overweight</th>\n",
              "      <th>Obese</th>\n",
              "    </tr>\n",
              "  </thead>\n",
              "  <tbody>\n",
              "    <tr>\n",
              "      <th>High</th>\n",
              "      <td>40</td>\n",
              "      <td>20</td>\n",
              "      <td>10</td>\n",
              "    </tr>\n",
              "    <tr>\n",
              "      <th>Moderate</th>\n",
              "      <td>30</td>\n",
              "      <td>60</td>\n",
              "      <td>50</td>\n",
              "    </tr>\n",
              "    <tr>\n",
              "      <th>Low</th>\n",
              "      <td>20</td>\n",
              "      <td>30</td>\n",
              "      <td>60</td>\n",
              "    </tr>\n",
              "  </tbody>\n",
              "</table>\n",
              "</div>"
            ],
            "text/plain": [
              "          Normal  Overweight  Obese\n",
              "High          40          20     10\n",
              "Moderate      30          60     50\n",
              "Low           20          30     60"
            ]
          },
          "execution_count": 37,
          "metadata": {},
          "output_type": "execute_result"
        }
      ],
      "source": [
        "import pandas as pd\n",
        "df = pd.DataFrame({\"Normal\":[40, 30, 20], \"Overweight\":[20, 60, 30],\"Obese\":[10, 50, 60]}, columns = [\"Normal\", \"Overweight\",\"Obese\"])\n",
        "df.index = [\"High\", \"Moderate\", \"Low\"]\n",
        "df"
      ]
    },
    {
      "cell_type": "markdown",
      "id": "76bbe586",
      "metadata": {
        "id": "76bbe586"
      },
      "source": [
        "**Based on the contingency table, what is the count of individuals with a normal BMI who exercise at a moderate frequency?**\n",
        "\n",
        "**A) 20**\n",
        "\n",
        "**B) 30**\n",
        "\n",
        "**C) 40**\n",
        "\n",
        "**D) 60**"
      ]
    },
    {
      "cell_type": "markdown",
      "id": "40b264cc",
      "metadata": {
        "id": "40b264cc"
      },
      "source": [
        "**Answer: B) 30**"
      ]
    },
    {
      "cell_type": "markdown",
      "id": "cc5144a8",
      "metadata": {
        "id": "cc5144a8"
      },
      "source": [
        "## **Relative Frequency:**\n",
        "\n",
        "* **A relative frequency table summarizes categorical data by displaying the proportion or percentage of observations in each category.**\n",
        "\n",
        "* **It helps provide a clearer understanding of the distribution of data by representing each category's occurrence relative to the total number of observations.**\n",
        "\n",
        "* **To create a relative frequency table, count the frequencies of each category, divide each frequency by the total number of observations, and present the results in a tabular format.**"
      ]
    },
    {
      "cell_type": "markdown",
      "id": "a759c949",
      "metadata": {
        "id": "a759c949"
      },
      "source": [
        "### **Demo**\n",
        "\n",
        "**Question: 1 Question: Given the dataset [1, 2, 2, 3, 4, 2, 1, 2, 3, 1], what is the relative frequency of the value 2?**\n",
        "\n"
      ]
    },
    {
      "cell_type": "code",
      "execution_count": null,
      "id": "62e6b50f",
      "metadata": {
        "id": "62e6b50f",
        "outputId": "35bebb47-6714-410b-90a4-3d29a4e15182",
        "colab": {
          "base_uri": "https://localhost:8080/"
        }
      },
      "outputs": [
        {
          "output_type": "stream",
          "name": "stdout",
          "text": [
            "Relative frequency of 2 in the dataset: 0.4\n"
          ]
        }
      ],
      "source": [
        "def relative_frequency(value, dataset):\n",
        "    count = 0\n",
        "    for data in dataset:\n",
        "        if data == value:\n",
        "            count += 1\n",
        "    relative_freq = count / len(dataset)\n",
        "    return relative_freq\n",
        "\n",
        "# Example usage\n",
        "dataset = [1, 2, 2, 3, 4, 2, 1, 2, 3, 1]\n",
        "value = 2\n",
        "result = relative_frequency(value, dataset)\n",
        "print(\"Relative frequency of\", value, \"in the dataset:\", result)"
      ]
    },
    {
      "cell_type": "markdown",
      "id": "8e20900f",
      "metadata": {
        "id": "8e20900f"
      },
      "source": [
        "### **Practice Time**\n",
        "\n",
        "**Question: 1**\n",
        "\n",
        "**Given the dataset [1, 2, 2, 3, 4, 2, 1, 2, 3, 1], what are the relative frequencies of each unique value?**\n"
      ]
    },
    {
      "cell_type": "code",
      "execution_count": null,
      "id": "a20fb1aa",
      "metadata": {
        "id": "a20fb1aa",
        "outputId": "4c8d7fd0-40a7-4e07-cd93-8594f8e38d26",
        "colab": {
          "base_uri": "https://localhost:8080/"
        }
      },
      "outputs": [
        {
          "output_type": "stream",
          "name": "stdout",
          "text": [
            "Relative frequencies of unique values: {1: 0.3, 2: 0.4, 3: 0.2, 4: 0.1}\n"
          ]
        }
      ],
      "source": [
        "def calculate_relative_frequencies(dataset):\n",
        "    freq_dict = {}\n",
        "    total_count = len(dataset)\n",
        "    for data in dataset:\n",
        "        if data in freq_dict:\n",
        "            freq_dict[data] += 1\n",
        "        else:\n",
        "            freq_dict[data] = 1\n",
        "    relative_freqs = {}\n",
        "    for key, value in freq_dict.items():\n",
        "        relative_freqs[key] = value / total_count\n",
        "    return relative_freqs\n",
        "\n",
        "# Example usage\n",
        "dataset = [1, 2, 2, 3, 4, 2, 1, 2, 3, 1]\n",
        "result = calculate_relative_frequencies(dataset)\n",
        "print(\"Relative frequencies of unique values:\", result)"
      ]
    },
    {
      "cell_type": "markdown",
      "id": "1946ebd0",
      "metadata": {
        "id": "1946ebd0"
      },
      "source": [
        "**Question: 2**\n",
        "\n",
        "**Given the relative frequencies of different categories as [0.25, 0.35, 0.15, 0.25], how would you visualize the relative frequencies using a bar plot, where the categories are represented by [\"A\", \"B\", \"C\", \"D\"]?**"
      ]
    },
    {
      "cell_type": "code",
      "execution_count": null,
      "id": "824142d3",
      "metadata": {
        "id": "824142d3",
        "outputId": "ea2c3e73-9ded-4bb3-853c-f0c83d729ab1"
      },
      "outputs": [
        {
          "data": {
            "image/png": "[encoded data removed]",
            "text/plain": [
              "<Figure size 640x480 with 1 Axes>"
            ]
          },
          "metadata": {},
          "output_type": "display_data"
        }
      ],
      "source": [
        "import matplotlib.pyplot as plt\n",
        "\n",
        "def plot_relative_frequencies(categories, frequencies):\n",
        "    plt.bar(categories, frequencies)\n",
        "    plt.xlabel(\"Categories\")\n",
        "    plt.ylabel(\"Relative Frequencies\")\n",
        "    plt.title(\"Relative Frequencies of Categories\")\n",
        "    plt.show()\n",
        "\n",
        "# Example usage\n",
        "categories = [\"A\", \"B\", \"C\", \"D\"]\n",
        "frequencies = [0.25, 0.35, 0.15, 0.25]\n",
        "plot_relative_frequencies(categories, frequencies)"
      ]
    },
    {
      "cell_type": "markdown",
      "id": "12adce94",
      "metadata": {
        "id": "12adce94"
      },
      "source": [
        "## **Marginal Probability**"
      ]
    },
    {
      "cell_type": "markdown",
      "id": "96d20856",
      "metadata": {
        "id": "96d20856"
      },
      "source": [
        "**Marginal probability refers to the probability of an event occurring without considering the occurrence of any other events. It focuses on the probabilities of individual events or outcomes in a probability distribution or contingency table.**"
      ]
    },
    {
      "cell_type": "markdown",
      "id": "ec3043e5",
      "metadata": {
        "id": "ec3043e5"
      },
      "source": [
        "### **Demo**\n",
        "\n",
        "**Question: In a deck of 52 playing cards, what is the probability of drawing an Ace?**"
      ]
    },
    {
      "cell_type": "markdown",
      "id": "2615d67e",
      "metadata": {
        "id": "2615d67e"
      },
      "source": [
        "**Answer:**\n",
        "\n",
        "**The probability of drawing an Ace from a standard deck of 52 playing cards is 4/52, which can be simplified to 1/13.**"
      ]
    },
    {
      "cell_type": "markdown",
      "id": "a7757cb5",
      "metadata": {
        "id": "a7757cb5"
      },
      "source": [
        "### **Practice Time**\n",
        "\n",
        "**Question: 1**\n",
        "\n",
        "**In a survey conducted among 100 people, 60% of them preferred coffee, while the remaining preferred tea. What is the probability that a randomly chosen person from the survey prefers tea?**"
      ]
    },
    {
      "cell_type": "markdown",
      "id": "8e54cecd",
      "metadata": {
        "id": "8e54cecd"
      },
      "source": [
        "**Answer:**\n",
        "\n",
        "**Since 60% preferred coffee, the remaining 40% must prefer tea. Therefore, the probability of randomly selecting a person who prefers tea is 40/100, which can be simplified to 2/5.**"
      ]
    },
    {
      "cell_type": "markdown",
      "id": "15c7d999",
      "metadata": {
        "id": "15c7d999"
      },
      "source": [
        "**Question: 2**\n",
        "\n",
        "**A jar contains 20 red marbles, 30 blue marbles, and 50 green marbles. If one marble is drawn at random from the jar, what is the probability of drawing a red marble?**"
      ]
    },
    {
      "cell_type": "markdown",
      "id": "c565b2df",
      "metadata": {
        "id": "c565b2df"
      },
      "source": [
        "**Answer:**\n",
        "\n",
        "**The total number of marbles in the jar is 20 + 30 + 50 = 100. Therefore, the probability of drawing a red marble is 20/100, which can be simplified to 1/5.**"
      ]
    },
    {
      "cell_type": "markdown",
      "id": "3ca2b7ee",
      "metadata": {
        "id": "3ca2b7ee"
      },
      "source": [
        "## **Conditional Probability**"
      ]
    },
    {
      "cell_type": "markdown",
      "id": "eb27986b",
      "metadata": {
        "id": "eb27986b"
      },
      "source": [
        "**Conditional probability is the likelihood of an event happening, given that another event has already occurred. It helps update probabilities based on new information. It's represented as P(A|B), where A is the event of interest and B is the given event.**"
      ]
    },
    {
      "cell_type": "markdown",
      "id": "166f1832",
      "metadata": {
        "id": "166f1832"
      },
      "source": [
        "**Demo**\n",
        "\n",
        "**Question: 1**\n",
        "\n",
        "**A jar contains 10 red marbles and 5 blue marbles. If you randomly select one marble and it is red, what is the probability that the next marble you select is blue?**"
      ]
    },
    {
      "cell_type": "markdown",
      "id": "6aa8e7ed",
      "metadata": {
        "id": "6aa8e7ed"
      },
      "source": [
        "**Answer:**\n",
        "\n",
        "**Since there are 10 red marbles and 5 blue marbles, the probability of selecting a red marble initially is 10/(10+5) = 10/15 = 2/3. After selecting a red marble, there are 9 red marbles and 5 blue marbles left. Therefore, the probability of selecting a blue marble next is 5/(9+5) = 5/14 = 5/7.**"
      ]
    },
    {
      "cell_type": "markdown",
      "id": "898a434d",
      "metadata": {
        "id": "898a434d"
      },
      "source": [
        "**Question: 2**\n",
        "\n",
        "**In a deck of cards, you draw one card. What is the probability that it is a spade, given that it is a face card (jack, queen, or king)?**"
      ]
    },
    {
      "cell_type": "markdown",
      "id": "e9ce3c9b",
      "metadata": {
        "id": "e9ce3c9b"
      },
      "source": [
        "**Answer:**\n",
        "\n",
        "**Out of the 52 cards in a deck, there are 12 face cards (3 suits × 4 face cards each). Among the face cards, there are 3 spades. Therefore, the probability of drawing a spade, given that it is a face card, is 3/12 = 1/4.**"
      ]
    },
    {
      "cell_type": "markdown",
      "id": "212658d3",
      "metadata": {
        "id": "212658d3"
      },
      "source": [
        "### **Practice Time:**\n",
        "\n",
        "**Question: 1**\n",
        "\n",
        "**In a class, 30% of students play basketball and 20% of students play football. If 10% of the students play both sports, what is the probability that a randomly selected student plays basketball, given that the student plays football?**"
      ]
    },
    {
      "cell_type": "markdown",
      "id": "3dc5f637",
      "metadata": {
        "id": "3dc5f637"
      },
      "source": [
        "**Answer:**\n",
        "\n",
        "**If 30% of students play basketball and 20% play football,**\n",
        "**the total percentage of students participating in either sport is 30% + 20% = 50%. However, since 10% of students play both sports, we need to subtract the overlapping percentage. So, the probability that a randomly selected student plays basketball,\n",
        "given that the student plays football, is (30% - 10%) / 50% = 20% / 50% = 2/5.**\n",
        "\n"
      ]
    },
    {
      "cell_type": "markdown",
      "id": "77119e9b",
      "metadata": {
        "id": "77119e9b"
      },
      "source": [
        "**Question: 2**\n",
        "\n",
        "**In a survey, 60% of people like coffee and 40% of people like tea. If 25% of the people surveyed like both coffee and tea, what is the probability that a randomly selected person likes coffee, given that the person likes tea?**"
      ]
    },
    {
      "cell_type": "markdown",
      "id": "d6866d95",
      "metadata": {
        "id": "d6866d95"
      },
      "source": [
        "**Answer:**\n",
        "\n",
        "**If 60% of people like coffee and 40% like tea, the total percentage of people who like either coffee or tea is 60% + 40% = 100%. However, since 25% of people like both coffee and tea, we need to subtract the overlapping percentage. So, the probability that a randomly selected person likes coffee, given that the person likes tea, is (60% - 25%) / 40% = 35% / 40% = 7/8.**"
      ]
    },
    {
      "cell_type": "markdown",
      "id": "3cf96535",
      "metadata": {
        "id": "3cf96535"
      },
      "source": [
        "### **The Chain Rule of Probability**\n",
        "\n",
        "**The chain rule of probability is a fundamental concept in probability theory that allows us to compute the joint probability of multiple events by breaking it down into conditional probabilities. It is an extension of the product rule.**\n",
        "\n",
        "**In its simplest form, the chain rule states that the joint probability of two events A and B can be expressed as the product of the probability of event A and the conditional probability of event B given that event A has occurred. Mathematically, it can be written as:**\n",
        "\n",
        "**P(A, B) = P(A) * P(B|A)**"
      ]
    },
    {
      "cell_type": "markdown",
      "id": "3da451b0",
      "metadata": {
        "id": "3da451b0"
      },
      "source": [
        "### **Demo**\n",
        "\n",
        "**Question:**\n",
        "\n",
        "**What is the joint probability of it raining (event A) and there being clouds in the sky (event B) if the probability of rain is 0.3 (P(A)) and the probability of seeing clouds given that it is raining is 0.8 (P(B|A))?**"
      ]
    },
    {
      "cell_type": "code",
      "execution_count": null,
      "id": "3b6ac221",
      "metadata": {
        "id": "3b6ac221",
        "outputId": "25f6a9af-ddea-4510-c813-64dce3288be6"
      },
      "outputs": [
        {
          "name": "stdout",
          "output_type": "stream",
          "text": [
            "The joint probability of rain and clouds is 0.24\n"
          ]
        }
      ],
      "source": [
        "P_A = 0.3  # Probability of rain\n",
        "P_B_given_A = 0.8  # Probability of seeing clouds given that it is raining\n",
        "\n",
        "joint_probability = P_A * P_B_given_A\n",
        "print(f\"The joint probability of rain and clouds is {joint_probability}\")"
      ]
    },
    {
      "cell_type": "markdown",
      "id": "7c7c11fb",
      "metadata": {
        "id": "7c7c11fb"
      },
      "source": [
        "### **Practice Time**\n",
        "\n",
        "**Question: 1**\n",
        "\n",
        "**You have a standard deck of playing cards with 52 cards, where half of them are red and half are black. You draw two cards without replacement. What is the probability of drawing a red card on the first draw and drawing a black card on the second draw, given that the first card drawn was red?**"
      ]
    },
    {
      "cell_type": "code",
      "execution_count": null,
      "id": "b39e013f",
      "metadata": {
        "id": "b39e013f",
        "outputId": "05af3459-e3e9-43db-d345-27ceb8765ced"
      },
      "outputs": [
        {
          "name": "stdout",
          "output_type": "stream",
          "text": [
            "The joint probability of drawing a red card on the first draw and a black card on the second draw is 0.2549019607843137\n"
          ]
        }
      ],
      "source": [
        "P_A = 26 / 52  # Probability of drawing a red card on the first draw\n",
        "P_B_given_A = 26 / 51  # Probability of drawing a black card on the second draw, given that the first card drawn was red\n",
        "\n",
        "joint_probability = P_A * P_B_given_A\n",
        "print(f\"The joint probability of drawing a red card on the first draw and a black card on the second draw is {joint_probability}\")"
      ]
    },
    {
      "cell_type": "markdown",
      "id": "ffd282d2",
      "metadata": {
        "id": "ffd282d2"
      },
      "source": [
        "**Question: 2**\n",
        "\n",
        "**In a deck of 52 playing cards, suppose you draw one card at random. The probability of drawing a heart is 0.25 (P(A)), and the probability of drawing a face card (jack, queen, or king) given that it is a heart is 0.2 (P(B|A)). What is the joint probability of drawing a heart and a face card? Solve using the chain rule of probability?**"
      ]
    },
    {
      "cell_type": "code",
      "execution_count": null,
      "id": "42216cff",
      "metadata": {
        "id": "42216cff",
        "outputId": "04dc67e4-d5fd-4313-d0aa-acd6c1148700"
      },
      "outputs": [
        {
          "name": "stdout",
          "output_type": "stream",
          "text": [
            "The joint probability of drawing a heart and a face card is 0.05\n"
          ]
        }
      ],
      "source": [
        "P_A = 0.25  # Probability of drawing a heart\n",
        "P_B_given_A = 0.2  # Probability of drawing a face card given that it is a heart\n",
        "\n",
        "joint_probability = P_A * P_B_given_A\n",
        "print(f\"The joint probability of drawing a heart and a face card is {joint_probability}\")"
      ]
    },
    {
      "cell_type": "markdown",
      "id": "5f13b180",
      "metadata": {
        "id": "5f13b180"
      },
      "source": [
        "### **Independence:**\n",
        "\n",
        "**In statistics, independence means that two or more variables are unrelated. The value of one variable does not provide any information about the other variable. It's an important assumption for accurate statistical analysis.**"
      ]
    },
    {
      "cell_type": "markdown",
      "id": "b2a880d4",
      "metadata": {
        "id": "b2a880d4"
      },
      "source": [
        "### **Demo**\n",
        "\n",
        "**Question: Are the scores of two different exams, Math and English, independent of each other for a group of students?**"
      ]
    },
    {
      "cell_type": "markdown",
      "id": "4607c935",
      "metadata": {
        "id": "4607c935"
      },
      "source": [
        "**Answer: To determine the independence, you can analyze the relationship between the scores. If the scores on the Math exam have no influence or correlation with the scores on the English exam, then the scores are considered independent.**\n"
      ]
    },
    {
      "cell_type": "markdown",
      "id": "02a382c2",
      "metadata": {
        "id": "02a382c2"
      },
      "source": [
        "### **Practice Time**\n",
        "\n",
        "**Question: Is there a relationship between gender and voting preference in a particular election?**"
      ]
    },
    {
      "cell_type": "markdown",
      "id": "178ec483",
      "metadata": {
        "id": "178ec483"
      },
      "source": [
        "**Answer:**\n",
        "\n",
        "**To assess independence, you can analyze whether there is any association between gender and voting preference. If the voting preference of an individual does not depend on their gender, then gender and voting preference are considered independent.**"
      ]
    },
    {
      "cell_type": "markdown",
      "id": "866d2022",
      "metadata": {
        "id": "866d2022"
      },
      "source": [
        "**Question 2: In a survey, participants were asked about their favorite ice cream flavor and their gender. Are these two variables independent?**"
      ]
    },
    {
      "cell_type": "markdown",
      "id": "81377d91",
      "metadata": {
        "id": "81377d91"
      },
      "source": [
        "**Answer:**\n",
        "\n",
        "**The variables \"favorite ice cream flavor\" and \"gender\" are likely to be independent. The preference for a particular ice cream flavor is unlikely to be related to an individual's gender. Therefore, these variables can be considered as independent in this context.**"
      ]
    },
    {
      "cell_type": "markdown",
      "id": "62ab2e20",
      "metadata": {
        "id": "62ab2e20"
      },
      "source": [
        "### **Bayes theorem:**"
      ]
    },
    {
      "cell_type": "markdown",
      "id": "d521fde0",
      "metadata": {
        "id": "d521fde0"
      },
      "source": [
        "**Bayes' theorem is a fundamental concept in probability theory and statistics named after the Reverend Thomas Bayes. It allows us to update our knowledge or beliefs about an event or hypothesis based on new evidence or information.**\n",
        "\n",
        "**The theorem can be stated mathematically as follows:**\n",
        "\n",
        "**P(A|B) = (P(B|A) * P(A)) / P(B)**"
      ]
    },
    {
      "cell_type": "markdown",
      "id": "9d0b2adf",
      "metadata": {
        "id": "9d0b2adf"
      },
      "source": [
        "### **Demo**\n",
        "\n",
        "**Question:**\n",
        "\n",
        "**A certain disease affects 1% of the population. A diagnostic test for the disease has a 95% accuracy rate (true positive rate) and a 2% false-positive rate. If a person tests positive, what is the probability that they actually have the disease?**\n"
      ]
    },
    {
      "cell_type": "code",
      "execution_count": null,
      "id": "3526d1b9",
      "metadata": {
        "id": "3526d1b9",
        "outputId": "52ebc150-fcc4-41b9-b266-52d133da0bf3"
      },
      "outputs": [
        {
          "name": "stdout",
          "output_type": "stream",
          "text": [
            "The probability of having the disease given a positive test result is approximately 32.42%\n"
          ]
        }
      ],
      "source": [
        "def calculate_probability(A_probability, B_given_A_probability, B_given_not_A_probability):\n",
        "    P_A_given_B = (B_given_A_probability * A_probability) / ((B_given_A_probability * A_probability) + (B_given_not_A_probability * (1 - A_probability)))\n",
        "    return P_A_given_B\n",
        "\n",
        "A_probability = 0.01\n",
        "B_given_A_probability = 0.95\n",
        "B_given_not_A_probability = 0.02\n",
        "\n",
        "P_A_given_B = calculate_probability(A_probability, B_given_A_probability, B_given_not_A_probability)\n",
        "print(f\"The probability of having the disease given a positive test result is approximately {round(P_A_given_B * 100, 2)}%\")\n"
      ]
    },
    {
      "cell_type": "markdown",
      "id": "3efd0285",
      "metadata": {
        "id": "3efd0285"
      },
      "source": [
        "### **Practice Time**\n",
        "\n",
        "**Question:**\n",
        "\n",
        "**In a game, a biased die is rolled. The probability of rolling a 6 is 0.4, while the probabilities of rolling any other number are all 0.1. If the die shows a 6, what is the probability that it was the biased die?**"
      ]
    },
    {
      "cell_type": "code",
      "execution_count": null,
      "id": "75650552",
      "metadata": {
        "id": "75650552",
        "outputId": "570c1186-1e2a-45b1-eba1-8e18df303aa2"
      },
      "outputs": [
        {
          "name": "stdout",
          "output_type": "stream",
          "text": [
            "The probability that the biased die was rolled given that it shows a 6 is approximately 80.0%\n"
          ]
        }
      ],
      "source": [
        "def calculate_probability(A_probability, B_given_A_probability, B_given_not_A_probability):\n",
        "    P_A_given_B = (B_given_A_probability * A_probability) / ((B_given_A_probability * A_probability) + (B_given_not_A_probability * (1 - A_probability)))\n",
        "    return P_A_given_B\n",
        "\n",
        "A_probability = 1/2\n",
        "B_given_A_probability = 0.4\n",
        "B_given_not_A_probability = 0.1\n",
        "\n",
        "P_A_given_B = calculate_probability(A_probability, B_given_A_probability, B_given_not_A_probability)\n",
        "print(f\"The probability that the biased die was rolled given that it shows a 6 is approximately {round(P_A_given_B * 100, 2)}%\")"
      ]
    },
    {
      "cell_type": "markdown",
      "id": "1c0d97ea",
      "metadata": {
        "id": "1c0d97ea"
      },
      "source": [
        "## **The central limit theorem (CLT)**\n",
        "\n",
        "* **The central limit theorem (CLT) is a fundamental concept in probability theory and statistics.**\n",
        "\n",
        "* **It states that when independent random variables are added together, their normalized sum tends to follow a normal distribution.**\n",
        "\n",
        "* **The applicability of the central limit theorem increases as the sample size grows larger.**\n",
        "\n",
        "* **Even with relatively small sample sizes, the normal approximation provided by the central limit theorem tends to be reasonably accurate for many practical purposes.**\n",
        "\n",
        "\n",
        "![image.png](attachment:image.png)"
      ]
    },
    {
      "cell_type": "code",
      "execution_count": null,
      "id": "082a3fca",
      "metadata": {
        "id": "082a3fca"
      },
      "outputs": [],
      "source": []
    },
    {
      "cell_type": "markdown",
      "id": "5297f8ae",
      "metadata": {
        "id": "5297f8ae"
      },
      "source": [
        "## **Random Variable**"
      ]
    },
    {
      "cell_type": "markdown",
      "id": "f24f4911",
      "metadata": {
        "id": "f24f4911"
      },
      "source": [
        "**Random variable is a characteristic, measurement, or count that changes randomly according to some set of probabilities; its notation is X, Y, Z, and so on.**\n",
        "\n",
        "**A list of all possible values of a random variable, along with their probabilities is called a probability distribution. One of the most well-known probability distributions is the binomial.**\n",
        "\n",
        "**Binomial means “two names” and is associated with situations involving two outcomes: success or failure (hitting a red light or not; developing a side effect or not).**"
      ]
    },
    {
      "cell_type": "markdown",
      "id": "a92c11e4",
      "metadata": {
        "id": "a92c11e4"
      },
      "source": [
        "### **Random Variable**\n",
        "\n",
        "* **In probability theory, a random variable is a mathematical concept that represents an uncertain quantity or outcome in a probabilistic experiment or system.**\n",
        "\n",
        "* **It is used to model and analyze the random behavior of a process or experiment.**\n",
        "\n",
        "* **Formally, a random variable is a function that maps the outcomes of a probabilistic experiment to numerical values.**\n",
        "\n",
        "* **These numerical values can represent various types of quantities, such as discrete values (e.g., the number of heads obtained in a series of coin tosses) or continuous values (e.g., the time it takes for a bus to arrive).**"
      ]
    },
    {
      "cell_type": "markdown",
      "id": "3a3a514e",
      "metadata": {
        "id": "3a3a514e"
      },
      "source": [
        "### **Creating a random variables**"
      ]
    },
    {
      "cell_type": "markdown",
      "id": "603269fd",
      "metadata": {
        "id": "603269fd"
      },
      "source": [
        "**Question:**\n",
        "\n",
        "**Suppose we have generated a random variable following a normal distribution. The random variable consists of 50 samples drawn from a normal distribution with a mean of 0 and a standard deviation of 1. What are the values of this random variable?**"
      ]
    },
    {
      "cell_type": "code",
      "execution_count": null,
      "id": "57956d8d",
      "metadata": {
        "id": "57956d8d",
        "outputId": "58b4d7fd-6d09-4453-b8cb-df934f68e9d4"
      },
      "outputs": [
        {
          "name": "stdout",
          "output_type": "stream",
          "text": [
            "0.7326743310965051\n"
          ]
        }
      ],
      "source": [
        "import numpy as np\n",
        "\n",
        "# Create a random variable following a normal distribution\n",
        "mean = 0\n",
        "std_dev = 1\n",
        "size = 50  # Number of samples\n",
        "\n",
        "random_variable = np.random.normal(mean, std_dev, size)\n",
        "\n",
        "# Print the random variable\n",
        "print(random_variable)"
      ]
    },
    {
      "cell_type": "markdown",
      "id": "2dd76286",
      "metadata": {
        "id": "2dd76286"
      },
      "source": [
        "**Practice Time**\n",
        "\n",
        "**Question:**\n",
        "\n",
        "**Consider a random variable generated using a normal distribution. We have created a random variable consisting of 20 samples, where each sample is drawn from a normal distribution with a mean of 0 and a standard deviation of 1. What are the values of this random variable?**"
      ]
    },
    {
      "cell_type": "code",
      "execution_count": null,
      "id": "4a2a1baa",
      "metadata": {
        "id": "4a2a1baa",
        "outputId": "d71e7200-fe1c-42f7-a911-25656eb49aa5"
      },
      "outputs": [
        {
          "data": {
            "text/plain": [
              "array([ 0.37355969,  0.27346654,  0.91783858,  0.28092949,  0.8359129 ,\n",
              "       -0.45522206, -0.91015196,  1.6452913 , -0.450743  , -0.31165604,\n",
              "       -1.01265973,  0.67183106,  0.04850684, -0.46607807, -0.19811404,\n",
              "       -1.10507969, -0.35337843, -1.16170941,  1.38940432,  1.08859144])"
            ]
          },
          "execution_count": 7,
          "metadata": {},
          "output_type": "execute_result"
        }
      ],
      "source": [
        "###question 2:\n",
        "\n",
        "import numpy as np\n",
        "\n",
        "# Create a random variable\n",
        "rv = np.random.normal(loc=0, scale=1, size=20)\n",
        "rv"
      ]
    },
    {
      "cell_type": "markdown",
      "id": "20b5be9e",
      "metadata": {
        "id": "20b5be9e"
      },
      "source": [
        "### Types of Random Variable"
      ]
    },
    {
      "cell_type": "markdown",
      "id": "62cb0f37",
      "metadata": {
        "id": "62cb0f37"
      },
      "source": [
        "**1. Discrete Random Variable: A discrete random variable takes on a countable number of distinct values. For example, the number of heads obtained when flipping a coin multiple times or the number of cars passing through an intersection in a given time period.**"
      ]
    },
    {
      "cell_type": "markdown",
      "id": "cdb2af6f",
      "metadata": {
        "id": "cdb2af6f"
      },
      "source": [
        "### **Demo**\n",
        "\n",
        "**Question:**\n",
        "\n",
        "**Suppose we want to study the number of children in a family. We randomly generated a number between 0 and 5 to represent the number of children in a particular family. What is the number of children in this family?**"
      ]
    },
    {
      "cell_type": "code",
      "execution_count": null,
      "id": "c09bd616",
      "metadata": {
        "id": "c09bd616",
        "outputId": "56ab7a96-cf7f-4cf0-b7f0-936d45b93667"
      },
      "outputs": [
        {
          "name": "stdout",
          "output_type": "stream",
          "text": [
            "Number of Children: 5\n"
          ]
        }
      ],
      "source": [
        "import numpy as np\n",
        "\n",
        "#Number of children in a family\n",
        "num_children = np.random.randint(0, 6)  # Randomly generate a number of children between 0 and 5\n",
        "print(\"Number of Children:\", num_children)"
      ]
    },
    {
      "cell_type": "markdown",
      "id": "44e9ee00",
      "metadata": {
        "id": "44e9ee00"
      },
      "source": [
        "### **Practice Time:**\n",
        "\n",
        "**Question:**\n",
        "\n",
        "**Suppose we want to simulate rolling a fair six-sided die. We randomly generated a number between 1 and 6 to represent the outcome of the dice roll. What is the result of rolling the die in this simulation?**\n",
        "\n",
        "\n",
        "\n",
        "\n"
      ]
    },
    {
      "cell_type": "code",
      "execution_count": null,
      "id": "0c4bc5b4",
      "metadata": {
        "id": "0c4bc5b4",
        "outputId": "cca0193e-e478-4ed5-872a-4391005a4c5f"
      },
      "outputs": [
        {
          "name": "stdout",
          "output_type": "stream",
          "text": [
            "Dice Roll: 3\n"
          ]
        }
      ],
      "source": [
        "#Outcome of rolling a fair six-sided die\n",
        "dice_roll = np.random.randint(1, 7)  # Simulate rolling a fair six-sided die\n",
        "print(\"Dice Roll:\", dice_roll)"
      ]
    },
    {
      "cell_type": "markdown",
      "id": "eaf90b49",
      "metadata": {
        "id": "eaf90b49"
      },
      "source": [
        "**2. Continuous Random Variable: A continuous random variable can take any value within a specified range or interval. It is characterized by a continuous probability distribution function. Examples include the height of individuals, the time it takes for a customer to complete a transaction, or the temperature at a given location.**\n"
      ]
    },
    {
      "cell_type": "markdown",
      "id": "dfec66e7",
      "metadata": {
        "id": "dfec66e7"
      },
      "source": [
        "### **Demo**\n",
        "**Question:**\n",
        "\n",
        "**Suppose we want to study the heights of individuals in a population. We simulated the height of an individual by randomly generating a value from a normal distribution with a mean of 170 and a standard deviation of 10. What is the height of this individual in our simulation?**"
      ]
    },
    {
      "cell_type": "code",
      "execution_count": null,
      "id": "fb612726",
      "metadata": {
        "id": "fb612726",
        "outputId": "83a91fc1-124b-4fc8-f47f-5b39d65fa54e"
      },
      "outputs": [
        {
          "name": "stdout",
          "output_type": "stream",
          "text": [
            "Height: 169.00190566225967\n"
          ]
        }
      ],
      "source": [
        "import numpy as np\n",
        "\n",
        "# Example 1: Height of individuals in a population\n",
        "height = np.random.normal(170, 10)  # Simulate height in a normal distribution with mean 170 and standard deviation 10\n",
        "print(\"Height:\", height)"
      ]
    },
    {
      "cell_type": "markdown",
      "id": "70cbe4e5",
      "metadata": {
        "id": "70cbe4e5"
      },
      "source": [
        "### **Practice Time**\n",
        "\n",
        "**Write a program to simulate the time it takes for a car to travel from one point to another. We randomly generated a value to represent the travel time, where the time is uniformly distributed between 10 and 30 minutes. What is the travel time in minutes for this simulation?**"
      ]
    },
    {
      "cell_type": "code",
      "execution_count": null,
      "id": "fd49ebc1",
      "metadata": {
        "id": "fd49ebc1",
        "outputId": "66a8a228-ec2a-4f74-aac2-63b6068798da"
      },
      "outputs": [
        {
          "name": "stdout",
          "output_type": "stream",
          "text": [
            "Travel Time: 14.020432801684692\n"
          ]
        }
      ],
      "source": [
        "# Time it takes for a car to travel from one point to another\n",
        "travel_time = np.random.uniform(10, 30)  # Simulate travel time between 10 and 30 minutes\n",
        "print(\"Travel Time:\", travel_time)"
      ]
    },
    {
      "cell_type": "markdown",
      "id": "676a7c15",
      "metadata": {
        "id": "676a7c15"
      },
      "source": [
        "**3. Bernoulli Random Variable: A Bernoulli random variable is a discrete random variable that takes only two possible values, typically denoted as 0 and 1. It represents a single trial with a binary outcome, such as success or failure, heads or tails, or true or false.**"
      ]
    },
    {
      "cell_type": "markdown",
      "id": "aace12b4",
      "metadata": {
        "id": "aace12b4"
      },
      "source": [
        "### Demo\n",
        "\n",
        "**Question:**\n",
        "\n",
        "**Suppose we want to simulate flipping a coin. We randomly generated a value to represent the outcome of the coin flip, where 0 represents tails and 1 represents heads. What is the result of the coin flip in this simulation?**"
      ]
    },
    {
      "cell_type": "code",
      "execution_count": null,
      "id": "1314bc26",
      "metadata": {
        "id": "1314bc26",
        "outputId": "400a4ac0-2765-4549-d55b-550b276d52ae"
      },
      "outputs": [
        {
          "name": "stdout",
          "output_type": "stream",
          "text": [
            "Coin Flip: 0\n"
          ]
        }
      ],
      "source": [
        "import numpy as np\n",
        "\n",
        "#  Outcome of flipping a coin\n",
        "coin_flip = np.random.choice([0, 1])  # Simulate flipping a coin (0 for tails, 1 for heads)\n",
        "print(\"Coin Flip:\", coin_flip)"
      ]
    },
    {
      "cell_type": "markdown",
      "id": "71174409",
      "metadata": {
        "id": "71174409"
      },
      "source": [
        "### **Practice Time:**\n",
        "\n",
        "**Question:**\n",
        "\n",
        "**Suppose we want to simulate whether a student passes an exam. We randomly generated a value to represent the outcome, where 0 indicates a failure and 1 indicates a passing grade. In this simulation, the probability of passing the exam is 0.7. Did the student pass the exam in this simulation?**"
      ]
    },
    {
      "cell_type": "code",
      "execution_count": null,
      "id": "c79cbc49",
      "metadata": {
        "id": "c79cbc49",
        "outputId": "f2f3cb57-7b30-41c4-e3de-f4581bedbdb9"
      },
      "outputs": [
        {
          "name": "stdout",
          "output_type": "stream",
          "text": [
            "Pass Exam: 1\n"
          ]
        }
      ],
      "source": [
        "#  Whether a student passes an exam\n",
        "pass_exam = np.random.choice([0, 1], p=[0.3, 0.7])  # Simulate passing an exam with a probability of 0.7\n",
        "print(\"Pass Exam:\", pass_exam)"
      ]
    },
    {
      "cell_type": "markdown",
      "id": "6618c927",
      "metadata": {
        "id": "6618c927"
      },
      "source": [
        "**4. Binomial Random Variable: A binomial random variable is characterized by multiple independent Bernoulli trials with the same probability of success. It represents the number of successes in a fixed number of trials. For instance, the number of defective items in a production line or the number of students who pass an exam out of a given sample.**\n"
      ]
    },
    {
      "cell_type": "markdown",
      "id": "47f04663",
      "metadata": {
        "id": "47f04663"
      },
      "source": [
        "### **Demo**\n",
        "\n",
        "**Question:**\n",
        "**Write a program to simulate shooting basketball free throws. A player attempts 10 free throws, and each attempt has a 75% success rate. How many successful free throws did the player make in this simulation?**"
      ]
    },
    {
      "cell_type": "code",
      "execution_count": null,
      "id": "d628f016",
      "metadata": {
        "id": "d628f016",
        "outputId": "a63bc753-bf58-40cf-bc54-c457480b87b8"
      },
      "outputs": [
        {
          "name": "stdout",
          "output_type": "stream",
          "text": [
            "Successful Free Throws: 8\n"
          ]
        }
      ],
      "source": [
        "import numpy as np\n",
        "\n",
        "# Number of successful basketball free throws out of ten attempts\n",
        "free_throws = np.random.binomial(10, 0.75)  # Simulate shooting 10 basketball free throws with a 75% success rate\n",
        "print(\"Successful Free Throws:\", free_throws)"
      ]
    },
    {
      "cell_type": "markdown",
      "id": "952e7fd7",
      "metadata": {
        "id": "952e7fd7"
      },
      "source": [
        "### Practice Time**\n",
        "\n",
        "**Question**\n",
        "\n",
        "**Suppose we have a production batch of 100 items. We want to simulate the number of defective items in this batch, with a defect rate of 5%. What is the number of defective items in this simulated production batch?**"
      ]
    },
    {
      "cell_type": "code",
      "execution_count": null,
      "id": "9ca2299f",
      "metadata": {
        "id": "9ca2299f",
        "outputId": "3eb235c4-7aa1-4696-c94c-2f9fc38766ff"
      },
      "outputs": [
        {
          "name": "stdout",
          "output_type": "stream",
          "text": [
            "Defective Items: 9\n"
          ]
        }
      ],
      "source": [
        "#  Number of defective items in a production batch\n",
        "defective_items = np.random.binomial(100, 0.05)  # Simulate a production batch of 100 items with a 5% defect rate\n",
        "print(\"Defective Items:\", defective_items)\n"
      ]
    },
    {
      "cell_type": "code",
      "execution_count": null,
      "id": "5f280e32",
      "metadata": {
        "id": "5f280e32"
      },
      "outputs": [],
      "source": []
    },
    {
      "cell_type": "markdown",
      "id": "d50c9b97",
      "metadata": {
        "id": "d50c9b97"
      },
      "source": [
        "## **Types of Distribution:**"
      ]
    },
    {
      "cell_type": "markdown",
      "id": "b69b8811",
      "metadata": {
        "id": "b69b8811"
      },
      "source": [
        "**1. Uniform Distribution: A uniform distribution occurs when all possible outcomes are equally likely. For example, rolling a fair die or picking a card from a well-shuffled deck can follow a uniform distribution.**\n",
        "\n",
        "![image-4.png](attachment:image-4.png)\n",
        "\n",
        "**2. Normal Distribution (Gaussian Distribution): The normal distribution is one of the most widely used distributions. It is characterized by a bell-shaped curve and is symmetric around its mean. Many natural phenomena, such as height or IQ scores, tend to follow a normal distribution.**\n",
        "\n",
        "![image.png](attachment:image.png)\n",
        "\n",
        "**3. Binomial Distribution: The binomial distribution is used when there are two possible outcomes, often referred to as success and failure. It models the number of successes in a fixed number of independent Bernoulli trials. Examples include flipping a coin multiple times or counting the number of heads in a series of coin flips.**\n",
        "\n",
        "![image-2.png](attachment:image-2.png)\n",
        "\n",
        "**4. Poisson Distribution: The Poisson distribution is used to model the number of events that occur in a fixed interval of time or space. It is often used for rare events with a known average rate of occurrence. Examples include the number of phone calls received at a call center in a given hour or the number of accidents at a specific intersection in a day.**\n",
        "\n",
        "![image-3.png](attachment:image-3.png)"
      ]
    },
    {
      "cell_type": "markdown",
      "id": "86278c34",
      "metadata": {
        "id": "86278c34"
      },
      "source": [
        "### **CDF,PMF on types of distribution.**"
      ]
    },
    {
      "cell_type": "markdown",
      "id": "ae3b24b0",
      "metadata": {
        "id": "ae3b24b0"
      },
      "source": [
        "### **Demo**\n",
        "\n",
        "**Question 1:**\n",
        "\n",
        "**What is the cumulative distribution function (CDF) of a binomial distribution with 10 trials and a success probability of 0.3, evaluated at x = 5?**"
      ]
    },
    {
      "cell_type": "code",
      "execution_count": null,
      "id": "98637330",
      "metadata": {
        "id": "98637330",
        "outputId": "7b3d376d-8a58-4722-c438-ce95641b248a"
      },
      "outputs": [
        {
          "name": "stdout",
          "output_type": "stream",
          "text": [
            "CDF at x = 5 : 0.9526510126000001\n"
          ]
        }
      ],
      "source": [
        "import scipy.stats as stats\n",
        "\n",
        "n = 10  # Number of trials\n",
        "p = 0.3  # Probability of success\n",
        "\n",
        "# Calculate the CDF at a specific point, e.g., 5\n",
        "x = 5\n",
        "cdf = stats.binom.cdf(x, n, p)\n",
        "\n",
        "print(\"CDF at x =\", x, \":\", cdf)"
      ]
    },
    {
      "cell_type": "markdown",
      "id": "3b9a9e91",
      "metadata": {
        "id": "3b9a9e91"
      },
      "source": [
        "\n",
        "\n",
        "**Question 2:**\n",
        "\n",
        "**What is the probability mass function (PMF) of a Poisson distribution with an average rate of 2.5 events in a fixed interval, evaluated at x = 3?**"
      ]
    },
    {
      "cell_type": "code",
      "execution_count": null,
      "id": "eb56265b",
      "metadata": {
        "id": "eb56265b",
        "outputId": "d87bccfb-83cf-4b24-e510-07453ab63b34"
      },
      "outputs": [
        {
          "name": "stdout",
          "output_type": "stream",
          "text": [
            "PMF at x = 3 : 0.21376301724973648\n"
          ]
        }
      ],
      "source": [
        "import scipy.stats as stats\n",
        "\n",
        "lambda_ = 2.5  # Average number of events in a fixed interval\n",
        "\n",
        "# Calculate the PMF at a specific point, e.g., 3\n",
        "x = 3\n",
        "pmf = stats.poisson.pmf(x, lambda_)\n",
        "\n",
        "print(\"PMF at x =\", x, \":\", pmf)"
      ]
    },
    {
      "cell_type": "markdown",
      "id": "38f17792",
      "metadata": {
        "id": "38f17792"
      },
      "source": [
        "**Question: 3**\n",
        "\n",
        "**What is the cumulative distribution function (CDF) of a normal distribution with a mean of 0 and a standard deviation of 1, evaluated at x = 1.5?**"
      ]
    },
    {
      "cell_type": "code",
      "execution_count": null,
      "id": "69bd0ed2",
      "metadata": {
        "id": "69bd0ed2",
        "outputId": "227636a5-8a0b-489c-f905-adeef56a32e9"
      },
      "outputs": [
        {
          "name": "stdout",
          "output_type": "stream",
          "text": [
            "CDF at x = 1.5 : 0.9331927987311419\n"
          ]
        }
      ],
      "source": [
        "import numpy as np\n",
        "import scipy.stats as stats\n",
        "\n",
        "mean = 0\n",
        "std_dev = 1\n",
        "\n",
        "# Generate 1000 random samples from a normal distribution\n",
        "samples = np.random.normal(mean, std_dev, 1000)\n",
        "\n",
        "# Calculate the CDF at a specific value, e.g., 1.5\n",
        "x = 1.5\n",
        "cdf = stats.norm.cdf(x, mean, std_dev)\n",
        "\n",
        "print(\"CDF at x =\", x, \":\", cdf)\n"
      ]
    },
    {
      "cell_type": "markdown",
      "id": "56e9914c",
      "metadata": {
        "id": "56e9914c"
      },
      "source": [
        "### **Practice Time**\n",
        "\n",
        "**Question: 1**\n",
        "\n",
        "**What is the cumulative distribution function (CDF) of a binomial distribution with 10 trials and a success probability of 0.5, evaluated at x = 3?**"
      ]
    },
    {
      "cell_type": "code",
      "execution_count": null,
      "id": "19c333f1",
      "metadata": {
        "id": "19c333f1",
        "outputId": "34aefe51-045e-4778-cd82-37a5a712bd1f"
      },
      "outputs": [
        {
          "name": "stdout",
          "output_type": "stream",
          "text": [
            "CDF: 0.171875\n"
          ]
        }
      ],
      "source": [
        "import scipy.stats as stats\n",
        "\n",
        "n = 10  # number of trials\n",
        "p = 0.5  # probability of success\n",
        "x = 3  # number of successes\n",
        "\n",
        "cdf = stats.binom.cdf(x, n, p)\n",
        "print(\"CDF:\", cdf)"
      ]
    },
    {
      "cell_type": "markdown",
      "id": "5864166d",
      "metadata": {
        "id": "5864166d"
      },
      "source": [
        "**Question: 2**\n",
        "\n",
        "**What is the probability mass function (PMF) of a Poisson distribution with a mean parameter of 3, evaluated at x = 2?**"
      ]
    },
    {
      "cell_type": "code",
      "execution_count": null,
      "id": "03b5cf96",
      "metadata": {
        "id": "03b5cf96",
        "outputId": "cff6f55a-06d9-4f8d-fcdf-c4ecaaea676c"
      },
      "outputs": [
        {
          "name": "stdout",
          "output_type": "stream",
          "text": [
            "PMF: 0.22404180765538775\n"
          ]
        }
      ],
      "source": [
        "import scipy.stats as stats\n",
        "\n",
        "mu = 3  # mean parameter\n",
        "x = 2  # random variable\n",
        "\n",
        "pmf = stats.poisson.pmf(x, mu)\n",
        "print(\"PMF:\", pmf)\n"
      ]
    },
    {
      "cell_type": "markdown",
      "id": "efbf1f23",
      "metadata": {
        "id": "efbf1f23"
      },
      "source": [
        "**Question: 3**\n",
        "\n",
        "**What is the cumulative distribution function (CDF) of a normal distribution with a mean of 0 and a standard deviation of 1, evaluated at x = 1.5?**"
      ]
    },
    {
      "cell_type": "code",
      "execution_count": null,
      "id": "3db7a5b0",
      "metadata": {
        "id": "3db7a5b0",
        "outputId": "686f55d0-082c-48bb-cfc1-f72b89868b90"
      },
      "outputs": [
        {
          "name": "stdout",
          "output_type": "stream",
          "text": [
            "CDF: 0.9331927987311419\n"
          ]
        }
      ],
      "source": [
        "import scipy.stats as stats\n",
        "\n",
        "mu = 0  # mean parameter\n",
        "sigma = 1  # standard deviation parameter\n",
        "x = 1.5  # random variable\n",
        "\n",
        "cdf = stats.norm.cdf(x, mu, sigma)\n",
        "print(\"CDF:\", cdf)"
      ]
    },
    {
      "cell_type": "markdown",
      "id": "76c78aec",
      "metadata": {
        "id": "76c78aec"
      },
      "source": [
        "### CMF,PDF on Types of Distribution"
      ]
    },
    {
      "cell_type": "markdown",
      "id": "4d80b356",
      "metadata": {
        "id": "4d80b356"
      },
      "source": [
        "### Demo\n",
        "\n",
        "**Question 1: Calculating the CDF for a normal distribution with mean 0 and standard deviation 1 at a given value x:**\n"
      ]
    },
    {
      "cell_type": "code",
      "execution_count": null,
      "id": "abcc32d1",
      "metadata": {
        "id": "abcc32d1",
        "outputId": "a4aaf40d-ddc3-4e22-d2e9-c9eccf4b78e7"
      },
      "outputs": [
        {
          "name": "stdout",
          "output_type": "stream",
          "text": [
            "CDF at x=1.5: 0.9331927987311419\n"
          ]
        }
      ],
      "source": [
        "import scipy.stats as stats\n",
        "\n",
        "def calculate_normal_cdf(x):\n",
        "    return stats.norm.cdf(x, loc=0, scale=1)\n",
        "\n",
        "# Example usage\n",
        "x_value = 1.5\n",
        "cdf_value = calculate_normal_cdf(x_value)\n",
        "print(f\"CDF at x={x_value}: {cdf_value}\")"
      ]
    },
    {
      "cell_type": "markdown",
      "id": "75f5b6f0",
      "metadata": {
        "id": "75f5b6f0"
      },
      "source": [
        "**Question 2: Plotting the PDF for an exponential distribution with rate parameter λ = 0.5:**"
      ]
    },
    {
      "cell_type": "code",
      "execution_count": null,
      "id": "9d5d9951",
      "metadata": {
        "id": "9d5d9951",
        "outputId": "b9adc37d-6b5f-444a-950e-9eb35b07a040"
      },
      "outputs": [
        {
          "data": {
            "image/png": "[encoded data removed]",
            "text/plain": [
              "<Figure size 640x480 with 1 Axes>"
            ]
          },
          "metadata": {},
          "output_type": "display_data"
        }
      ],
      "source": [
        "import numpy as np\n",
        "import matplotlib.pyplot as plt\n",
        "import scipy.stats as stats\n",
        "\n",
        "def plot_exponential_pdf():\n",
        "    x = np.linspace(0, 10, 100)\n",
        "    pdf_values = stats.expon.pdf(x, scale=1/0.5)\n",
        "\n",
        "    plt.plot(x, pdf_values)\n",
        "    plt.xlabel('x')\n",
        "    plt.ylabel('PDF')\n",
        "    plt.title('Exponential Distribution (λ = 0.5)')\n",
        "    plt.show()\n",
        "\n",
        "# Example usage\n",
        "plot_exponential_pdf()"
      ]
    },
    {
      "cell_type": "markdown",
      "id": "50b4fda8",
      "metadata": {
        "id": "50b4fda8"
      },
      "source": [
        "**Question 3: Calculating the CDF and PDF for a Poisson distribution with lambda value of 2 at x = 1, 2, and 3:**\n"
      ]
    },
    {
      "cell_type": "code",
      "execution_count": null,
      "id": "73cedf95",
      "metadata": {
        "id": "73cedf95",
        "outputId": "446f0a0e-5b71-40c4-d837-779ebaae2445"
      },
      "outputs": [
        {
          "name": "stdout",
          "output_type": "stream",
          "text": [
            "At x=1: CDF=0.40600584970983794, PDF=0.2706705664732254\n",
            "At x=2: CDF=0.6766764161830634, PDF=0.2706705664732254\n",
            "At x=3: CDF=0.857123460498547, PDF=0.18044704431548356\n"
          ]
        }
      ],
      "source": [
        "import scipy.stats as stats\n",
        "\n",
        "def calculate_poisson_cdf(x, lambda_value):\n",
        "    return stats.poisson.cdf(x, mu=lambda_value)\n",
        "\n",
        "def calculate_poisson_pdf(x, lambda_value):\n",
        "    return stats.poisson.pmf(x, mu=lambda_value)\n",
        "\n",
        "# Example usage\n",
        "x_values = [1, 2, 3]\n",
        "lambda_value = 2\n",
        "\n",
        "for x in x_values:\n",
        "    cdf_value = calculate_poisson_cdf(x, lambda_value)\n",
        "    pdf_value = calculate_poisson_pdf(x, lambda_value)\n",
        "    print(f\"At x={x}: CDF={cdf_value}, PDF={pdf_value}\")"
      ]
    },
    {
      "cell_type": "code",
      "execution_count": null,
      "id": "e20e98d6",
      "metadata": {
        "id": "e20e98d6"
      },
      "outputs": [],
      "source": []
    },
    {
      "cell_type": "markdown",
      "id": "1779975c",
      "metadata": {
        "id": "1779975c"
      },
      "source": [
        "### Practice Time\n",
        "\n",
        "**Question: 1**\n",
        "\n",
        "**To calculate the cumulative distribution function (CDF) for a normal distribution with mean 0 and standard deviation 1 at a given value x, you can use the scipy.stats.norm module:**"
      ]
    },
    {
      "cell_type": "code",
      "execution_count": null,
      "id": "074af1dc",
      "metadata": {
        "id": "074af1dc",
        "outputId": "41047a9e-80c2-4557-9254-96af4922b6b3"
      },
      "outputs": [
        {
          "name": "stdout",
          "output_type": "stream",
          "text": [
            "CDF at x = 1.5: 0.9331927987311419\n"
          ]
        }
      ],
      "source": [
        "from scipy.stats import norm\n",
        "\n",
        "def calculate_cdf(x):\n",
        "    cdf = norm.cdf(x, loc=0, scale=1)\n",
        "    return cdf\n",
        "\n",
        "# Example usage\n",
        "x_value = 1.5\n",
        "cdf_value = calculate_cdf(x_value)\n",
        "print(f\"CDF at x = {x_value}: {cdf_value}\")"
      ]
    },
    {
      "cell_type": "markdown",
      "id": "3de4dde3",
      "metadata": {
        "id": "3de4dde3"
      },
      "source": [
        "**Question: 2**\n",
        "\n",
        "**Create a Python program to plot the probability density function (PDF) for an exponential distribution with a rate parameter of λ = 0.5. Calculate the PDF values for a range of x values from 0 to 10 and plot the graph.**\n"
      ]
    },
    {
      "cell_type": "code",
      "execution_count": null,
      "id": "4c35c680",
      "metadata": {
        "id": "4c35c680",
        "outputId": "0ff08f03-18f9-4aec-c949-2d79c3bd6740"
      },
      "outputs": [
        {
          "data": {
            "image/png": "[encoded data removed]",
            "text/plain": [
              "<Figure size 640x480 with 1 Axes>"
            ]
          },
          "metadata": {},
          "output_type": "display_data"
        }
      ],
      "source": [
        "\n",
        "import numpy as np\n",
        "import matplotlib.pyplot as plt\n",
        "import scipy.stats as stats\n",
        "\n",
        "def plot_exponential_pdf():\n",
        "    x = np.linspace(0, 10, 100)\n",
        "    y = stats.expon.pdf(x, scale=1/0.5)  # scale = 1 / lambda\n",
        "    plt.plot(x, y)\n",
        "    plt.xlabel('x')\n",
        "    plt.ylabel('Probability Density')\n",
        "    plt.title('Exponential Distribution (PDF)')\n",
        "    plt.show()\n",
        "\n",
        "plot_exponential_pdf()"
      ]
    },
    {
      "cell_type": "markdown",
      "id": "4a575bdf",
      "metadata": {
        "id": "4a575bdf"
      },
      "source": [
        "**Question: 3**\n",
        "\n",
        "**Using the scipy.stats module in Python, calculate the cumulative distribution function (CDF) and probability density function (PDF) for a Poisson distribution with a lambda value of 2. Compute the CDF and PDF values at x = 1, 2, and 3.**\n"
      ]
    },
    {
      "cell_type": "code",
      "execution_count": null,
      "id": "c952e7a1",
      "metadata": {
        "id": "c952e7a1",
        "outputId": "9011cef6-f497-4054-f77b-3334a9defcb0"
      },
      "outputs": [
        {
          "name": "stdout",
          "output_type": "stream",
          "text": [
            "CDF values: [0.40600585 0.67667642 0.85712346]\n",
            "PDF values: [0.27067057 0.27067057 0.18044704]\n"
          ]
        }
      ],
      "source": [
        "import scipy.stats as stats\n",
        "\n",
        "def calculate_poisson_cdf_pdf():\n",
        "    lambda_val = 2\n",
        "    x_values = [1, 2, 3]\n",
        "\n",
        "    cdf_values = stats.poisson.cdf(x_values, mu=lambda_val)\n",
        "    pdf_values = stats.poisson.pmf(x_values, mu=lambda_val)\n",
        "\n",
        "    return cdf_values, pdf_values\n",
        "\n",
        "cdf_values, pdf_values = calculate_poisson_cdf_pdf()\n",
        "print(\"CDF values:\", cdf_values)\n",
        "print(\"PDF values:\", pdf_values)"
      ]
    },
    {
      "cell_type": "markdown",
      "id": "6394d703",
      "metadata": {
        "id": "6394d703"
      },
      "source": [
        "### Other Terminologies:"
      ]
    },
    {
      "cell_type": "markdown",
      "id": "e59c3361",
      "metadata": {
        "id": "e59c3361"
      },
      "source": [
        "* **Variance:**\n",
        "\n",
        "Variance is a measure of the dispersion or spread of a set of data points. It quantifies how far each data point in a dataset is from the mean (average) and gives an idea of the variability or diversity within the dataset. Mathematically, variance is calculated by taking the average of the squared differences between each data point and the mean.\n",
        "\n",
        "* **Standard Deviation:**\n",
        "\n",
        "Standard deviation is closely related to variance and provides another measure of the dispersion of a dataset. It is the square root of the variance and is expressed in the same units as the original data. Standard deviation gives a more intuitive understanding of the spread of data by indicating the average amount by which data points deviate from the mean.\n",
        "\n",
        "* **Correlation:**\n",
        "\n",
        "Correlation measures the strength and direction of the linear relationship between two variables. It quantifies how closely the values of one variable are related to the values of another variable. Correlation is typically expressed as a value between -1 and 1. A positive correlation close to 1 indicates a strong positive relationship, a negative correlation close to -1 indicates a strong negative relationship, and a correlation close to 0 indicates little or no linear relationship.\n",
        "\n",
        "* **Expectation**\n",
        "\n",
        "In statistics, expectation refers to the average or mean value of a random variable. It is a measure of the central tendency of a probability distribution or a population. The expectation of a discrete random variable X is denoted as E(X) or μ and is computed by summing the products of each possible value of X with its corresponding probability."
      ]
    },
    {
      "cell_type": "markdown",
      "id": "01db4a8a",
      "metadata": {
        "id": "01db4a8a"
      },
      "source": [
        "### **Demo**\n",
        "\n",
        "**Question:**\n",
        "\n",
        "**In a company, the monthly sales for the past year are recorded as [100, 150, 120, 140, 110, 130]. What is the expectation, standard deviation, and mean of the monthly sales data?**|"
      ]
    },
    {
      "cell_type": "code",
      "execution_count": null,
      "id": "da99bd28",
      "metadata": {
        "id": "da99bd28",
        "outputId": "e98f77bc-d3c8-453f-88b7-4da491e84608"
      },
      "outputs": [
        {
          "name": "stdout",
          "output_type": "stream",
          "text": [
            "Expectation (Mean): 125.0\n",
            "Standard Deviation: 17.07825127659933\n",
            "Mean: 125.0\n",
            "Correlation: 0.9999999999999998\n"
          ]
        }
      ],
      "source": [
        "import numpy as np\n",
        "\n",
        "# Monthly sales data\n",
        "sales_data = [100, 150, 120, 140, 110, 130]\n",
        "\n",
        "# Calculate expectation (mean)\n",
        "expectation = np.mean(sales_data)\n",
        "print(\"Expectation (Mean):\", expectation)\n",
        "\n",
        "# Calculate standard deviation\n",
        "std_deviation = np.std(sales_data)\n",
        "print(\"Standard Deviation:\", std_deviation)\n",
        "\n",
        "# Calculate mean\n",
        "mean = np.mean(sales_data)\n",
        "print(\"Mean:\", mean)\n",
        "\n",
        "# Calculate correlation matrix (as it's a single variable, correlation with itself is 1)\n",
        "correlation = np.corrcoef(sales_data, sales_data)[0, 1]\n",
        "print(\"Correlation:\", correlation)"
      ]
    },
    {
      "cell_type": "markdown",
      "id": "d565d505",
      "metadata": {
        "id": "d565d505"
      },
      "source": [
        "### **Practice Time**\n",
        "\n",
        "**Question:**\n",
        "\n",
        "**Given the exam scores of a group of students, which are [85, 90, 92, 88, 95], what is the expectation, standard deviation, and mean of the scores?**"
      ]
    },
    {
      "cell_type": "code",
      "execution_count": null,
      "id": "80a8e5af",
      "metadata": {
        "id": "80a8e5af",
        "outputId": "7565ab65-228d-4eb5-e346-c2732e783a5d"
      },
      "outputs": [
        {
          "name": "stdout",
          "output_type": "stream",
          "text": [
            "Expectation (Mean): 90.0\n",
            "Standard Deviation: 3.40587727318528\n",
            "Mean: 90.0\n",
            "Correlation: 0.9999999999999999\n"
          ]
        }
      ],
      "source": [
        "import numpy as np\n",
        "\n",
        "# Exam scores data\n",
        "scores = [85, 90, 92, 88, 95]\n",
        "\n",
        "# Calculate expectation (mean)\n",
        "expectation = np.mean(scores)\n",
        "print(\"Expectation (Mean):\", expectation)\n",
        "\n",
        "# Calculate standard deviation\n",
        "std_deviation = np.std(scores)\n",
        "print(\"Standard Deviation:\", std_deviation)\n",
        "\n",
        "# Calculate mean\n",
        "mean = np.mean(scores)\n",
        "print(\"Mean:\", mean)\n",
        "\n",
        "# Calculate correlation matrix (as it's a single variable, correlation with itself is 1)\n",
        "correlation = np.corrcoef(scores, scores)[0, 1]\n",
        "print(\"Correlation:\", correlation)"
      ]
    },
    {
      "cell_type": "code",
      "execution_count": null,
      "id": "559ff809",
      "metadata": {
        "id": "559ff809"
      },
      "outputs": [],
      "source": []
    },
    {
      "cell_type": "markdown",
      "id": "809e6f86",
      "metadata": {
        "id": "809e6f86"
      },
      "source": [
        "# **Home Work Question:**"
      ]
    },
    {
      "cell_type": "markdown",
      "id": "4c6a7f3e",
      "metadata": {
        "id": "4c6a7f3e"
      },
      "source": [
        "**Question: 1**\n",
        "\n",
        "**What is the probability of getting a heads when flipping a fair coin?**"
      ]
    },
    {
      "cell_type": "code",
      "execution_count": null,
      "id": "4e4baecc",
      "metadata": {
        "id": "4e4baecc",
        "outputId": "68affb1d-68f8-44be-a55c-23b9699618ca"
      },
      "outputs": [
        {
          "name": "stdout",
          "output_type": "stream",
          "text": [
            "0.50011\n"
          ]
        }
      ],
      "source": [
        "import random\n",
        "\n",
        "def flip_coin():\n",
        "    return random.choice(['Heads', 'Tails'])\n",
        "\n",
        "def calculate_probability():\n",
        "    num_trials = 100000\n",
        "    num_heads = 0\n",
        "\n",
        "    for _ in range(num_trials):\n",
        "        result = flip_coin()\n",
        "        if result == 'Heads':\n",
        "            num_heads += 1\n",
        "\n",
        "    probability = num_heads / num_trials\n",
        "    return probability\n",
        "\n",
        "print(calculate_probability())\n"
      ]
    },
    {
      "cell_type": "markdown",
      "id": "3d777051",
      "metadata": {
        "id": "3d777051"
      },
      "source": [
        "**Question: 2**\n",
        "\n",
        "**What is the probability of rolling a 6 on a fair six-sided die? (The probability of rolling a 6 on a fair six-sided die is 1/6)**\n"
      ]
    },
    {
      "cell_type": "code",
      "execution_count": null,
      "id": "2583eb02",
      "metadata": {
        "id": "2583eb02",
        "outputId": "b252b625-3fbd-4a1f-a178-8dff01fcdd96"
      },
      "outputs": [
        {
          "name": "stdout",
          "output_type": "stream",
          "text": [
            "0.16506\n"
          ]
        }
      ],
      "source": [
        "import random\n",
        "\n",
        "def roll_die():\n",
        "    return random.randint(1, 6)\n",
        "\n",
        "def calculate_probability():\n",
        "    num_trials = 100000\n",
        "    num_sixes = 0\n",
        "\n",
        "    for _ in range(num_trials):\n",
        "        result = roll_die()\n",
        "        if result == 6:\n",
        "            num_sixes += 1\n",
        "\n",
        "    probability = num_sixes / num_trials\n",
        "    return probability\n",
        "\n",
        "print(calculate_probability())"
      ]
    },
    {
      "cell_type": "markdown",
      "id": "e41fbdf9",
      "metadata": {
        "id": "e41fbdf9"
      },
      "source": [
        "**Question: 3**\n",
        "\n",
        "**If you have a deck of 52 playing cards, what is the probability of drawing a red card (hearts or diamonds)?**"
      ]
    },
    {
      "cell_type": "code",
      "execution_count": null,
      "id": "3c390ba9",
      "metadata": {
        "id": "3c390ba9",
        "outputId": "b85ce76e-8051-4c6e-bbb5-bcd567d54496"
      },
      "outputs": [
        {
          "name": "stdout",
          "output_type": "stream",
          "text": [
            "0.5\n"
          ]
        }
      ],
      "source": [
        "red_marbles = 5\n",
        "blue_marbles = 5\n",
        "total_marbles = red_marbles + blue_marbles\n",
        "probability = blue_marbles / total_marbles\n",
        "print(probability)"
      ]
    },
    {
      "cell_type": "markdown",
      "id": "080d2673",
      "metadata": {
        "id": "080d2673"
      },
      "source": [
        "**Question: 4**\n",
        "\n",
        "**Suppose you have a deck of 52 playing cards. You draw 5 cards from the deck without replacement. What is the probability of getting a flush, which means all 5 cards are of the same suit (e.g., all hearts or all spades)?**"
      ]
    },
    {
      "cell_type": "code",
      "execution_count": null,
      "id": "66bbd006",
      "metadata": {
        "id": "66bbd006",
        "outputId": "4297883a-df8f-4d8c-902b-400397c41440"
      },
      "outputs": [
        {
          "name": "stdout",
          "output_type": "stream",
          "text": [
            "0.0019807923169267707\n"
          ]
        }
      ],
      "source": [
        "import itertools\n",
        "\n",
        "def probability_of_flush():\n",
        "    # Create a deck of 52 playing cards\n",
        "    suits = ['Hearts', 'Diamonds', 'Spades', 'Clubs']\n",
        "    ranks = ['2', '3', '4', '5', '6', '7', '8', '9', '10', 'J', 'Q', 'K', 'A']\n",
        "    deck = list(itertools.product(ranks, suits))\n",
        "\n",
        "    # Calculate the total number of possible outcomes (sample space)\n",
        "    total_outcomes = len(list(itertools.combinations(deck, 5)))\n",
        "\n",
        "    # Calculate the number of favorable outcomes (flush hands)\n",
        "    favorable_outcomes = 4 * len(list(itertools.combinations(deck[:13], 5)))\n",
        "\n",
        "    # Calculate the probability\n",
        "    probability = favorable_outcomes / total_outcomes\n",
        "\n",
        "    return probability\n",
        "\n",
        "# Calculate and print the probability of getting a flush\n",
        "print(probability_of_flush())"
      ]
    },
    {
      "cell_type": "markdown",
      "id": "c28e4762",
      "metadata": {
        "id": "c28e4762"
      },
      "source": [
        "**So, the probability of drawing a flush from a standard deck of 52 playing cards is approximately 0.00198, or about 0.198%.**"
      ]
    },
    {
      "cell_type": "markdown",
      "id": "8728773c",
      "metadata": {
        "id": "8728773c"
      },
      "source": [
        "**Question:5 How can you calculate the PDF of a continuous random variable with a range of values from -5 to +5 in 100 intervals in Python?**"
      ]
    },
    {
      "cell_type": "code",
      "execution_count": null,
      "id": "a1333fd5",
      "metadata": {
        "id": "a1333fd5",
        "outputId": "8365e216-3988-4d06-d21a-cb994f7b7c07"
      },
      "outputs": [
        {
          "data": {
            "image/png": "[encoded data removed]",
            "text/plain": [
              "<Figure size 640x480 with 1 Axes>"
            ]
          },
          "metadata": {},
          "output_type": "display_data"
        }
      ],
      "source": [
        "import numpy as np\n",
        "import matplotlib.pyplot as plt\n",
        "\n",
        "# Define the probability density function\n",
        "def pdf(x):\n",
        "    return np.exp(-x**2/2) / np.sqrt(2*np.pi)\n",
        "\n",
        "# Calculate the PDF for a range of values\n",
        "x = np.linspace(-5, 5, 100)\n",
        "pdf_values = pdf(x)\n",
        "pdf_values\n",
        "\n",
        "# Plot the PDF\n",
        "plt.plot(x, pdf_values)\n",
        "plt.xlabel('x')\n",
        "plt.ylabel('PDF')\n",
        "plt.title('Probability Density Function')\n",
        "plt.show()"
      ]
    },
    {
      "cell_type": "markdown",
      "id": "154023f8",
      "metadata": {
        "id": "154023f8"
      },
      "source": [
        "**Question: 6**\n",
        "**Consider a continuous random variable X with PDF given by f(x) = 3x^2 for 0 ≤ x ≤ 1. Calculate the probability that X lies between 0.2 and 0.6.**"
      ]
    },
    {
      "cell_type": "code",
      "execution_count": null,
      "id": "ded4a85e",
      "metadata": {
        "id": "ded4a85e",
        "outputId": "d1554e05-6851-47ce-b1a6-e050bc74163c"
      },
      "outputs": [
        {
          "name": "stdout",
          "output_type": "stream",
          "text": [
            "Probability: 0.208\n"
          ]
        }
      ],
      "source": [
        "import scipy.integrate as spi\n",
        "\n",
        "# Define the PDF function\n",
        "def f(x):\n",
        "    return 3 * x**2\n",
        "\n",
        "# Calculate the probability using integration\n",
        "probability, _ = spi.quad(f, 0.2, 0.6)\n",
        "\n",
        "print(\"Probability:\", probability)"
      ]
    },
    {
      "cell_type": "markdown",
      "id": "9d822eef",
      "metadata": {
        "id": "9d822eef"
      },
      "source": [
        "**Question: 7**\n",
        "\n",
        "**Consider a discrete random variable Y with PMF given by P(Y = k) = 0.1 * (0.9)^k for k = 0, 1, 2, 3, ... Find the probability that Y is less than or equal to 2.**"
      ]
    },
    {
      "cell_type": "code",
      "execution_count": null,
      "id": "7552f828",
      "metadata": {
        "id": "7552f828",
        "outputId": "3ea72a38-7ced-44e4-d770-8206fdab42a9"
      },
      "outputs": [
        {
          "name": "stdout",
          "output_type": "stream",
          "text": [
            "Probability: 0.271\n"
          ]
        }
      ],
      "source": [
        "# Calculate the probability\n",
        "probability = sum(0.1 * (0.9)**k for k in range(3))\n",
        "\n",
        "print(\"Probability:\", probability)"
      ]
    },
    {
      "cell_type": "markdown",
      "id": "e5b6e834",
      "metadata": {
        "id": "e5b6e834"
      },
      "source": [
        "**Question: 8**\n",
        "**Given a continuous random variable Z with CDF given by F(z) = 1 - e^(-λz) for z ≥ 0, find the value of λ if P(Z ≤ 2) = 0.8.**"
      ]
    },
    {
      "cell_type": "code",
      "execution_count": null,
      "id": "880bfb0c",
      "metadata": {
        "id": "880bfb0c",
        "outputId": "842e010c-01db-46bf-c874-6e40bb7f89dc"
      },
      "outputs": [
        {
          "name": "stdout",
          "output_type": "stream",
          "text": [
            "λ: 0.804718956217050\n"
          ]
        }
      ],
      "source": [
        "import sympy as sp\n",
        "\n",
        "# Define the symbols\n",
        "λ = sp.Symbol('λ')\n",
        "\n",
        "# Define the CDF function\n",
        "def F(z):\n",
        "    return 1 - sp.exp(-λ * z)\n",
        "\n",
        "# Solve the equation P(Z ≤ 2) = 0.8 for λ\n",
        "solution = sp.solve(F(2) - 0.8, λ)\n",
        "\n",
        "print(\"λ:\", solution[0])"
      ]
    },
    {
      "cell_type": "markdown",
      "id": "4b2f002e",
      "metadata": {
        "id": "4b2f002e"
      },
      "source": [
        "**Question: 9**\n",
        "\n",
        "**Consider a discrete random variable X with PMF given by:**\n",
        "\n",
        "**P(X = 1) = 0.3**\n",
        "\n",
        "**P(X = 2) = 0.2**\n",
        "\n",
        "**P(X = 3) = 0.5**\n",
        "\n",
        "**Answer the following:**\n",
        "\n",
        "**a) Calculate the expected value of X.**\n",
        "\n",
        "**b) Calculate the PMF for X.**\n",
        "\n",
        "**c) Determine the cumulative distribution function (CDF) for X.**"
      ]
    },
    {
      "cell_type": "code",
      "execution_count": null,
      "id": "84f36a25",
      "metadata": {
        "id": "84f36a25",
        "outputId": "f50464b3-19a7-4aa6-f66c-3196a3449664"
      },
      "outputs": [
        {
          "name": "stdout",
          "output_type": "stream",
          "text": [
            "Expected value: 2.2\n",
            "PMF for X:\n",
            "P(X = 1 ) = 0.3\n",
            "P(X = 2 ) = 0.2\n",
            "P(X = 3 ) = 0.5\n",
            "CDF for X:\n",
            "F(X = 1 ) = 0.3\n",
            "F(X = 2 ) = 0.5\n",
            "F(X = 3 ) = 1.0\n"
          ]
        }
      ],
      "source": [
        "import numpy as np\n",
        "\n",
        "# PMF\n",
        "pmf = {1: 0.3, 2: 0.2, 3: 0.5}\n",
        "\n",
        "# Expected value\n",
        "expected_value = sum(x * p for x, p in pmf.items())\n",
        "print(\"Expected value:\", expected_value)\n",
        "\n",
        "# PMF calculation\n",
        "def calculate_pmf(pmf, x):\n",
        "    return pmf.get(x, 0)\n",
        "\n",
        "print(\"PMF for X:\")\n",
        "for x in range(1, 4):\n",
        "    print(\"P(X =\", x, \") =\", calculate_pmf(pmf, x))\n",
        "\n",
        "# CDF calculation\n",
        "def calculate_cdf(pmf, x):\n",
        "    cdf = 0\n",
        "    for i in range(1, x + 1):\n",
        "        cdf += calculate_pmf(pmf, i)\n",
        "    return cdf\n",
        "\n",
        "print(\"CDF for X:\")\n",
        "for x in range(1, 4):\n",
        "    print(\"F(X =\", x, \") =\", calculate_cdf(pmf, x))"
      ]
    },
    {
      "cell_type": "markdown",
      "id": "79be46d7",
      "metadata": {
        "id": "79be46d7"
      },
      "source": [
        "**Question: 10**\n",
        "\n",
        "**Consider a continuous random variable Z with the following CDF:**\n",
        "\n",
        "**F(z) = 1 - e^(-λz) for z >= 0**\n",
        "\n",
        "**= 0 otherwise**\n",
        "\n",
        "**Answer the following:**\n",
        "\n",
        "**a) Determine the value of λ.**\n",
        "\n",
        "**b) Calculate the probability that Z is greater than 2.**\n",
        "\n",
        "**c) Determine the PDF for Z.**"
      ]
    },
    {
      "cell_type": "code",
      "execution_count": null,
      "id": "71edb5af",
      "metadata": {
        "id": "71edb5af",
        "outputId": "5f9ba3d0-ffe7-4f7e-ce09-a3acf4c23ed8"
      },
      "outputs": [
        {
          "name": "stdout",
          "output_type": "stream",
          "text": [
            "Lambda value: 0.346573590279973\n",
            "Probability: 0.500000000000000\n",
            "PDF for Z: lambda*exp(-lambda*z)\n"
          ]
        }
      ],
      "source": [
        "import sympy as sp\n",
        "\n",
        "# CDF parameters\n",
        "z = sp.symbols('z', positive=True)\n",
        "lambda_val = sp.symbols('lambda', positive=True)\n",
        "\n",
        "# Value of lambda\n",
        "lambda_solution = sp.solve(1 - sp.exp(-lambda_val * 2) - 0.5, lambda_val)\n",
        "lambda_value = lambda_solution[0]\n",
        "print(\"Lambda value:\", lambda_value)\n",
        "\n",
        "# Probability calculation\n",
        "probability = 1 - sp.exp(-lambda_value * 2)\n",
        "print(\"Probability:\", probability)\n",
        "\n",
        "# PDF calculation\n",
        "pdf = sp.diff(1 - sp.exp(-lambda_val * z), z)\n",
        "print(\"PDF for Z:\", pdf)"
      ]
    },
    {
      "cell_type": "code",
      "execution_count": null,
      "id": "bb08b7db",
      "metadata": {
        "id": "bb08b7db"
      },
      "outputs": [],
      "source": []
    }
  ],
  "metadata": {
    "kernelspec": {
      "display_name": "Python 3 (ipykernel)",
      "language": "python",
      "name": "python3"
    },
    "language_info": {
      "codemirror_mode": {
        "name": "ipython",
        "version": 3
      },
      "file_extension": ".py",
      "mimetype": "text/x-python",
      "name": "python",
      "nbconvert_exporter": "python",
      "pygments_lexer": "ipython3",
      "version": "3.10.11"
    },
    "colab": {
      "provenance": [],
      "include_colab_link": true
    }
  },
  "nbformat": 4,
  "nbformat_minor": 5
}